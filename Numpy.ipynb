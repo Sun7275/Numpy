{
 "cells": [
  {
   "cell_type": "code",
   "execution_count": 1,
   "id": "19fc3980-f414-4886-8025-471780f6ceab",
   "metadata": {},
   "outputs": [],
   "source": [
    "#Theoretical Questions:"
   ]
  },
  {
   "cell_type": "code",
   "execution_count": 1,
   "id": "e384b6f5-7033-44e3-bab2-f059dece3c35",
   "metadata": {},
   "outputs": [],
   "source": [
    "#1. Explain the purpose and advantages of NumPy in scientific computing and data analysis. How does it enhance python's capabilities for numerical operations?\n",
    "\n",
    "#Purpose of Numpy:\n",
    "#1-Efficient array computations:- Numpy provides the ndarray object which is a fast and memory-efficient\n",
    "# Multidimensional array used for large datasets. it allaws for efficient computation of numerical operations on these array.\n",
    "\n",
    "#2-Mathematical Functions:- it include a wide range of mathematical functions, including those for linear algebra, random number all optimized for performance.\n",
    "#3-Interfacing with C/C++ and Fortran\n",
    "#4-Foundation for other libraries\n",
    "\n",
    "#Advantages of Numpy:\n",
    "#1-Performance:-Numpy arrays are more efficient than python lists for numerical operations\n",
    "#2-Vectorization:-Numpy allows for vectorized operations where operations can be applied directly to arrays without the need for explicit loops.\n",
    "#3-Broadcasting:-Numpy broadcasting capability allows operations to be performed on arrays of different shapes\n",
    "#4-Memory efficient:-Numpy arrays are more memory efficient than standard python lists.\n",
    "\n",
    "#Enhance python capabilities:\n",
    "#1-Handling large datasets\n",
    "#2-Speed\n",
    "#3-Easy of use\n",
    "\n",
    "#Overall Numpy significantly enhances python capabilities in numerical computing making it a powerfull tool for data analysis machin learning and scientific research.\n"
   ]
  },
  {
   "cell_type": "code",
   "execution_count": 2,
   "id": "81a3c9b7-cfaf-4454-b4e8-57150bbcd1ea",
   "metadata": {},
   "outputs": [],
   "source": [
    "#2. Compare and contrast np.mean() and np.average()functions in numpy.when would you use one over the other?\n",
    "\n",
    "#np.mean():\n",
    "#Calculates the arithmetic mean along a specified axis of the array.\n",
    "#The arithmetic mean is the sum of all the elements divided by the number of elements.\n",
    "#Does not consider any weights for the elements in the array.\n",
    "#Useful when you only need a straightforward average.\n",
    "\n",
    "#np.average():\n",
    "#Calculates the weighted average along a specified axis of the array.\n",
    "#Allows you to specify weights for each element.\n",
    "#Useful when you need to account for the relative importance of each value."
   ]
  },
  {
   "cell_type": "code",
   "execution_count": 3,
   "id": "b712b107-b4c0-449a-801a-5cf6b261277a",
   "metadata": {},
   "outputs": [
    {
     "name": "stdout",
     "output_type": "stream",
     "text": [
      "Reversed Array: [11  8  2  4  3  9 18  2  4  1  6]\n"
     ]
    }
   ],
   "source": [
    "#3. Describe the methods for reversing a numpy array along different axes. provide examples for 1D and 2d arrays.\n",
    "\n",
    "#Reversing a 1D NumPy Array:\n",
    "#You can use array slicing with the [::-1] syntax to reverse a 1D array.\n",
    "#example:-\n",
    "import numpy as np\n",
    "arr = np.array([6, 1, 4, 2, 18, 9, 3, 4, 2, 8, 11])\n",
    "reversed_arr = arr[::-1]\n",
    "print(\"Reversed Array:\", reversed_arr)\n"
   ]
  },
  {
   "cell_type": "code",
   "execution_count": 4,
   "id": "0fbc760d-6697-4761-a734-352fc2c9d919",
   "metadata": {},
   "outputs": [
    {
     "name": "stdout",
     "output_type": "stream",
     "text": [
      "Reversed Rows (axis 0):\n",
      " [[31 32 33 34]\n",
      " [21 22 23 24]\n",
      " [11 12 13 11]]\n",
      "Reversed Columns (axis 1):\n",
      " [[11 13 12 11]\n",
      " [24 23 22 21]\n",
      " [34 33 32 31]]\n"
     ]
    }
   ],
   "source": [
    "#Reversing a 2D NumPy Array:\n",
    "#To reverse a 2D array, you can use np.flip() along the desired axis (rows or columns).\n",
    "#example:-\n",
    "# Create a sample 2D NumPy array\n",
    "arr2D = np.array([[11, 12, 13, 11], [21, 22, 23, 24], [31, 32, 33, 34]])\n",
    "\n",
    "# Reverse the rows (along axis 0)\n",
    "reversed_rows = np.flip(arr2D, axis=0)\n",
    "print(\"Reversed Rows (axis 0):\\n\", reversed_rows)\n",
    "\n",
    "# Reverse the columns (along axis 1)\n",
    "reversed_columns = np.flip(arr2D, axis=1)\n",
    "print(\"Reversed Columns (axis 1):\\n\", reversed_columns)\n"
   ]
  },
  {
   "cell_type": "code",
   "execution_count": 5,
   "id": "4f3817c9-91c4-4f1d-aa02-06ac2c18e917",
   "metadata": {},
   "outputs": [],
   "source": [
    "#4- How can you determine the data type of elements in a numpy array? discuss the importance of data types memory management and performance.\n",
    "\n",
    "#Determining Data Types in NumPy\n",
    "#In NumPy, you can determine the data type of elements in an array using the dtype attribute. Here are some ways to check the data type:\n",
    "\n",
    "#Using dtype Attribute:\n",
    "#The dtype attribute provides information about the data type of a NumPy array.\n",
    "#Creating Arrays with Defined Data Types:\n",
    "#You can create an array with a specific data type using the dtype argument in the np.array() function.\n",
    "\n",
    "#Importance of Data Types\n",
    "#Memory Efficiency:\n",
    "#Choosing appropriate data types ensures efficient memory usage.\n",
    "#Smaller data types (e.g., int8, float16) consume less memory than larger ones \n",
    "\n",
    "#Performance Optimization:\n",
    "#Data types affect arithmetic operations and computational speed.\n",
    "\n",
    "#Data Integrity and Error Detection:\n",
    "#Correct data types prevent unintended behavior (e.g., integer overflow)"
   ]
  },
  {
   "cell_type": "code",
   "execution_count": 6,
   "id": "4ca9767f-a86e-4b0a-bee6-af2d8710fe28",
   "metadata": {},
   "outputs": [],
   "source": [
    "#5- Define ndarrays in numpy and explain their key features. how do they differ from standard python lists?\n",
    "\n",
    "#N-Dimensional Arrays (ndarrays):\n",
    "#An ndarray in NumPy is a table of elements (usually numbers) with the same data type.\n",
    "#It can have arbitrary dimensions (rank) and is indexed by a tuple of positive integers.\n",
    "\n",
    "#Key Features:\n",
    "#Fixed Size: Unlike Python lists, ndarrays have a fixed size at creation. Resizing creates a new array.\n",
    "#Homogeneous: All elements in an ndarray must be of the same data type.\n",
    "#Efficient Vectorized Operations: NumPy arrays allow fast and concise operations.\n",
    "#Memory Efficiency: Elements occupy the same size in memory.\n",
    "\n",
    "#Differences from Python Lists:\n",
    "#Lists can grow dynamically; ndarrays have a fixed size.\n",
    "#Lists can hold different data types; ndarrays enforce homogeneity.\n",
    "#NumPy arrays are more memory-efficient and optimized for numerical operations."
   ]
  },
  {
   "cell_type": "code",
   "execution_count": 7,
   "id": "3295d974-4a13-4a7b-b472-03ff2a144d40",
   "metadata": {},
   "outputs": [],
   "source": [
    "#6- Analyze the performance benefits of numpy arrays over python lists for large-scale numerical operations.\n",
    "\n",
    "#Memory Layout:\n",
    "#Python Lists: Each element in a Python list has its own memory space and type information.\n",
    "#However, this approach leads to wasted space due to empty slots in the boxes.\n",
    "\n",
    "#NumPy Arrays: NumPy arrays store data in memory in a continuous fashion, similar to books placed together on a shelf.\n",
    "\n",
    "#Flexibility vs. Efficiency:\n",
    "#Python Lists:\n",
    "#Flexible: You can put any object (of any type) in a Python list without worrying about type errors.\n",
    "#Less Efficient: The overhead of managing pointers and individual memory spaces can impact performance.\n",
    "#NumPy Arrays:\n",
    "#Optimized for Numerical Computations: NumPy arrays are designed for numerical operations, with efficient element-wise operations and mathematical functions."
   ]
  },
  {
   "cell_type": "code",
   "execution_count": 8,
   "id": "9c235e2b-be38-481b-afdb-54b7aaa790fd",
   "metadata": {},
   "outputs": [
    {
     "name": "stdout",
     "output_type": "stream",
     "text": [
      "[[1]\n",
      " [2]\n",
      " [3]\n",
      " [4]\n",
      " [5]\n",
      " [6]]\n"
     ]
    }
   ],
   "source": [
    "#7- Compare vstack() and hstack() functions in numpy. provide examples demonstrating their usage and output.\n",
    "\n",
    "#vstack() (Vertical Stack):\n",
    "#vstack() stacks arrays vertically (row-wise), combining them into a single array.\n",
    "#example-\n",
    "a = np.array([[1], [2], [3]])\n",
    "b = np.array([[4], [5], [6]])\n",
    "result = np.vstack((a, b))\n",
    "print(result)\n"
   ]
  },
  {
   "cell_type": "code",
   "execution_count": 9,
   "id": "528f36de-a2da-4e38-b5a3-f8aaa9618ce3",
   "metadata": {},
   "outputs": [
    {
     "name": "stdout",
     "output_type": "stream",
     "text": [
      "[1 2 3 4 5 6]\n"
     ]
    }
   ],
   "source": [
    "#hstack() (Horizontal Stack):\n",
    "#hstack() stacks arrays horizontally (column-wise), combining them into a single array.\n",
    "#example-\n",
    "a = np.array([1, 2, 3])\n",
    "b = np.array([4, 5, 6])\n",
    "result = np.hstack((a, b))\n",
    "print(result)\n"
   ]
  },
  {
   "cell_type": "code",
   "execution_count": 10,
   "id": "e2afd1c1-fbb0-40db-982b-739d29b504df",
   "metadata": {},
   "outputs": [],
   "source": [
    "#8- Explain the differences between fliplr() and flipud() methods in numpy including their effects on various array dimensions.\n",
    "\n",
    "#numpy.fliplr():\n",
    "#This function flips an array horizontally (from left to right).\n",
    "#It reverses the order of elements in each row while preserving the shape of the array.\n",
    "#The input array must be at least 2-dimensional for this function to work.\n",
    "\n",
    "#numpy.flipud():\n",
    "#This function flips an array vertically (from top to bottom).\n",
    "#It reverses the order of elements in each column while preserving the rows.\n",
    "#Similar to fliplr(), the input array must be at least 2-dimensional.\n",
    "\n",
    "#fliplr() flips horizontally (left to right), while flipud() flips vertically (up to down)."
   ]
  },
  {
   "cell_type": "code",
   "execution_count": 11,
   "id": "2832b0ce-1ea1-4c3b-963e-47cf226be431",
   "metadata": {},
   "outputs": [],
   "source": [
    "#9- Discuss the functionality of the array_split() method in numpy. how does  it handle uneven splits?\n",
    "\n",
    "#Function Signature:\n",
    "#numpy.array_split(ary, indices_or_sections, axis=0)\n",
    "#array: The array to be split.\n",
    "#indices_or_sections: Determines the number of splits or the indices where the array should be split.\n",
    "\n",
    "#Uneven Splits:\n",
    "#When the array length (l) cannot be evenly divided by the specified number of splits (n), numpy.array_split() handles it gracefully.\n",
    "#It returns l % n sub-arrays of size l // n + 1 and the remaining sub-arrays of size l // n."
   ]
  },
  {
   "cell_type": "code",
   "execution_count": 12,
   "id": "59315e00-10fb-413d-8066-a0e2beeac95d",
   "metadata": {},
   "outputs": [],
   "source": [
    "#10- Explain the concepts of vectorzation and broadcasting in numpy. how do they contribute to efficient array operations?\n",
    "\n",
    "#Vectorization:\n",
    "#Vectorization is a technique used to perform operations on arrays without using explicit loops.\n",
    "#Instead of iterating through each element individually, vectorized operations apply the operation to entire arrays at once.\n",
    "#NumPy provides vectorized functions that operate on entire arrays, such as element-wise addition, multiplication, and other mathematical operations.\n",
    "\n",
    "#Broadcasting:\n",
    "#Broadcasting allows NumPy to handle operations between arrays with different shapes.\n",
    "#When performing arithmetic operations (addition, subtraction, multiplication, etc.) on arrays, broadcasting ensures that arrays with different shapes are compatible.\n",
    "#The smaller array is “broadcast” across the larger array to make their shapes compatible."
   ]
  },
  {
   "cell_type": "code",
   "execution_count": 13,
   "id": "a91781fb-9c89-41f9-8c69-e0252263f754",
   "metadata": {},
   "outputs": [],
   "source": [
    "# PRACTICAL QUESTIONS:"
   ]
  },
  {
   "cell_type": "code",
   "execution_count": 20,
   "id": "df792404-4b5d-4baf-9111-40c71549eaae",
   "metadata": {},
   "outputs": [
    {
     "name": "stdout",
     "output_type": "stream",
     "text": [
      "Original array:\n",
      "[[77 73 91]\n",
      " [71 27 62]\n",
      " [29 58 78]]\n",
      "\n",
      "Transposed array (rows and columns interchanged):\n",
      "[[77 71 29]\n",
      " [73 27 58]\n",
      " [91 62 78]]\n"
     ]
    }
   ],
   "source": [
    "#1- Create a 3*3 numpy array with random integers between 1 and 100. then interchange its rows and columns.\n",
    "import numpy as np\n",
    "\n",
    "# Create a 3x3 random array with random integers between 1 and 100\n",
    "array = np.random.randint(1, 100, size=(3, 3))\n",
    "\n",
    "# Interchange rows and columns\n",
    "transposed_array = array.T\n",
    "\n",
    "print(\"Original array:\")\n",
    "print(array)\n",
    "print(\"\\nTransposed array (rows and columns interchanged):\")\n",
    "print(transposed_array)\n",
    "\n"
   ]
  },
  {
   "cell_type": "code",
   "execution_count": 13,
   "id": "8af9d0d0-53c1-46f8-906e-be16ebe26982",
   "metadata": {},
   "outputs": [
    {
     "name": "stdout",
     "output_type": "stream",
     "text": [
      "1D array:\n",
      "[0 1 2 3 4 5 6 7 8 9]\n",
      "\n",
      "2x5 array:\n",
      "[[0 1 2 3 4]\n",
      " [5 6 7 8 9]]\n",
      "\n",
      "5x2 array:\n",
      "[[0 1]\n",
      " [2 3]\n",
      " [4 5]\n",
      " [6 7]\n",
      " [8 9]]\n"
     ]
    }
   ],
   "source": [
    "#2- Generate a 1D numpy array with 10 elements. reshape it into a 2*5 array, then into a 5*2 array.\n",
    "\n",
    "import numpy as np\n",
    "\n",
    "# Create a 1D array with 10 elements\n",
    "arr = np.arange(10)\n",
    "\n",
    "# Reshape to a 2x5 array\n",
    "arr_2x5 = arr.reshape(2, 5)\n",
    "\n",
    "# Reshape to a 5x2 array\n",
    "arr_5x2 = arr_2x5.reshape(5, 2)\n",
    "\n",
    "print(\"1D array:\")\n",
    "print(arr)\n",
    "print(\"\\n2x5 array:\")\n",
    "print(arr_2x5)\n",
    "print(\"\\n5x2 array:\")\n",
    "print(arr_5x2)\n"
   ]
  },
  {
   "cell_type": "code",
   "execution_count": 16,
   "id": "92ef827f-27f0-436a-83ab-5ef08f33fed7",
   "metadata": {},
   "outputs": [
    {
     "name": "stdout",
     "output_type": "stream",
     "text": [
      "Original 4x4 array:\n",
      "[[0.08157984 0.64424908 0.03920528 0.75837321]\n",
      " [0.54172336 0.24737171 0.58312021 0.96823448]\n",
      " [0.07986358 0.16667358 0.41997385 0.09742813]\n",
      " [0.10924795 0.0439287  0.99318524 0.05805459]]\n",
      "6x6 array with zeros border:\n",
      "[[0.         0.         0.         0.         0.         0.        ]\n",
      " [0.         0.08157984 0.64424908 0.03920528 0.75837321 0.        ]\n",
      " [0.         0.54172336 0.24737171 0.58312021 0.96823448 0.        ]\n",
      " [0.         0.07986358 0.16667358 0.41997385 0.09742813 0.        ]\n",
      " [0.         0.10924795 0.0439287  0.99318524 0.05805459 0.        ]\n",
      " [0.         0.         0.         0.         0.         0.        ]]\n"
     ]
    }
   ],
   "source": [
    "#3- Create a 4*4 numpy array with random float value. add a border of zeros around it, resulting in a 6*6 array.\n",
    "\n",
    "# Create a 4x4 array with random float values between 0 and 1\n",
    "original_array = np.random.rand(4, 4)\n",
    "\n",
    "# Create a 6x6 array with zeros\n",
    "bordered_array = np.zeros((6, 6))\n",
    "\n",
    "# Place the original array inside the bordered array\n",
    "bordered_array[1:5, 1:5] = original_array\n",
    "\n",
    "print(\"Original 4x4 array:\")\n",
    "print(original_array)\n",
    "print(\"6x6 array with zeros border:\")\n",
    "print(bordered_array)\n"
   ]
  },
  {
   "cell_type": "code",
   "execution_count": 23,
   "id": "e3d22c36-6a93-410d-9ebc-aa9e3ec925bd",
   "metadata": {},
   "outputs": [
    {
     "data": {
      "text/plain": [
       "array([10, 15, 20, 25, 30, 35, 40, 45, 50, 55])"
      ]
     },
     "execution_count": 23,
     "metadata": {},
     "output_type": "execute_result"
    }
   ],
   "source": [
    "#4- Using numpy create an array of integers from 10 to 60 with a step of 5.\n",
    "\n",
    "# Create the array\n",
    "array = np.arange(10, 60, 5)\n",
    "array\n"
   ]
  },
  {
   "cell_type": "code",
   "execution_count": 24,
   "id": "474667f0-8b28-4a61-ba67-55fff07b963d",
   "metadata": {},
   "outputs": [
    {
     "name": "stdout",
     "output_type": "stream",
     "text": [
      "Original array: ['python' 'numpy' 'pandas']\n",
      "Uppercase array: ['PYTHON' 'NUMPY' 'PANDAS']\n",
      "Lowercase array: ['python' 'numpy' 'pandas']\n",
      "Titlecase array: ['Python' 'Numpy' 'Pandas']\n"
     ]
    }
   ],
   "source": [
    "#5- Create a numpy array of string['python','numpy','pandas']. Apply different case transformations (uppercase, lowercase, title case,etc) to each element.\n",
    "\n",
    "# Create a NumPy array with the given strings\n",
    "string_array = np.array(['python', 'numpy', 'pandas'])\n",
    "\n",
    "# Apply different case transformations\n",
    "uppercase_array = np.char.upper(string_array)\n",
    "lowercase_array = np.char.lower(string_array)\n",
    "titlecase_array = np.char.title(string_array)\n",
    "\n",
    "print(\"Original array:\", string_array)\n",
    "print(\"Uppercase array:\", uppercase_array)\n",
    "print(\"Lowercase array:\", lowercase_array)\n",
    "print(\"Titlecase array:\", titlecase_array)\n"
   ]
  },
  {
   "cell_type": "code",
   "execution_count": 30,
   "id": "21547070-bf38-4c9b-95e8-e0aca867632b",
   "metadata": {},
   "outputs": [
    {
     "name": "stdout",
     "output_type": "stream",
     "text": [
      "['A j a y' 'B i j a y']\n"
     ]
    }
   ],
   "source": [
    "#6- Generate a numpy array of words. Insert a space between each character of even word in the array.\n",
    "\n",
    "# Example words\n",
    "words = np.array([\"Ajay\", \"Bijay\"])\n",
    "\n",
    "# Insert space between characters of even words\n",
    "even_words = words[::1]\n",
    "even_words_spaced = np.array([\" \".join(word) for word in even_words])\n",
    "\n",
    "print(even_words_spaced)\n"
   ]
  },
  {
   "cell_type": "code",
   "execution_count": 31,
   "id": "6f3491b1-2edf-4229-9565-809d4b1b56bf",
   "metadata": {},
   "outputs": [
    {
     "name": "stdout",
     "output_type": "stream",
     "text": [
      "Array 1:\n",
      "[[1 2]\n",
      " [3 4]]\n",
      "Array 2:\n",
      "[[5 6]\n",
      " [7 8]]\n",
      "Addition result:\n",
      "[[ 6  8]\n",
      " [10 12]]\n",
      "Subtraction result:\n",
      "[[-4 -4]\n",
      " [-4 -4]]\n",
      "Multiplication result:\n",
      "[[ 5 12]\n",
      " [21 32]]\n",
      "Division result:\n",
      "[[0.2        0.33333333]\n",
      " [0.42857143 0.5       ]]\n"
     ]
    }
   ],
   "source": [
    "#7- Create two 2D numpy arrays and perform element_wise addition, subtraction, multiplication, and division.\n",
    "\n",
    "# Create two 2D arrays\n",
    "array1 = np.array([[1, 2], [3, 4]])\n",
    "array2 = np.array([[5, 6], [7, 8]])\n",
    "\n",
    "# Element-wise addition\n",
    "addition_result = array1 + array2\n",
    "\n",
    "# Element-wise subtraction\n",
    "subtraction_result = array1 - array2\n",
    "\n",
    "# Element-wise multiplication\n",
    "multiplication_result = array1 * array2\n",
    "\n",
    "# Element-wise division\n",
    "division_result = array1 / array2\n",
    "\n",
    "print(\"Array 1:\")\n",
    "print(array1)\n",
    "print(\"Array 2:\")\n",
    "print(array2)\n",
    "print(\"Addition result:\")\n",
    "print(addition_result)\n",
    "print(\"Subtraction result:\")\n",
    "print(subtraction_result)\n",
    "print(\"Multiplication result:\")\n",
    "print(multiplication_result)\n",
    "print(\"Division result:\")\n",
    "print(division_result)\n"
   ]
  },
  {
   "cell_type": "code",
   "execution_count": 34,
   "id": "536f55c8-0280-4fdb-a45c-b47a0f6a0d22",
   "metadata": {},
   "outputs": [
    {
     "name": "stdout",
     "output_type": "stream",
     "text": [
      "Identity Matrix:\n",
      "[[1. 0. 0. 0. 0.]\n",
      " [0. 1. 0. 0. 0.]\n",
      " [0. 0. 1. 0. 0.]\n",
      " [0. 0. 0. 1. 0.]\n",
      " [0. 0. 0. 0. 1.]]\n"
     ]
    }
   ],
   "source": [
    "#8- Use numpy to create a 5*5 identity matrix, then extract its diagonal elements.\n",
    "\n",
    "identity_matrix = np.eye(5)\n",
    "print(\"Identity Matrix:\")\n",
    "print(identity_matrix)\n"
   ]
  },
  {
   "cell_type": "code",
   "execution_count": 33,
   "id": "ab93bfd5-9d47-4dd6-bc97-4c36e2af57d9",
   "metadata": {},
   "outputs": [
    {
     "name": "stdout",
     "output_type": "stream",
     "text": [
      "Diagonal Elements:\n",
      "[1. 1. 1. 1. 1.]\n"
     ]
    }
   ],
   "source": [
    "diagonal_elements = np.diag(identity_matrix)\n",
    "print(\"Diagonal Elements:\")\n",
    "print(diagonal_elements)\n"
   ]
  },
  {
   "cell_type": "code",
   "execution_count": 37,
   "id": "86e5dcba-23d7-4b80-af37-18a417a91ec8",
   "metadata": {},
   "outputs": [
    {
     "name": "stdout",
     "output_type": "stream",
     "text": [
      "Random integers array:\n",
      "[913 466 579 887 568 321 735 118 286 222 695 818  93 743 715 243 789 266\n",
      " 422 280 974  77 236 798 893 417 587 580 894 233 828 786 804 798 270 788\n",
      " 594 443  94 410 317 883 108 907 615 415 685 890 933 951 243 128 844  84\n",
      " 523 520 607 398 803 951  60 301 973 643 253 402 101 642 198 329 550 154\n",
      "  92 283 934 426 594   9 976 127 779 860 678 415 309 623  37 576 842 902\n",
      " 671 403 378 355 305 345 600 172 711 942]\n",
      "\n",
      "Prime numbers in the array:\n",
      "[887, 743, 587, 233, 443, 317, 883, 907, 523, 607, 643, 101, 283, 127, 37]\n"
     ]
    }
   ],
   "source": [
    "#9- Generate a numpy array of 100 random integers between 0 and 1000. Find and display all prime numbers in this array.\n",
    "\n",
    "# Generate the array\n",
    "random_integers = np.random.randint(0, 1000, size=100)\n",
    "\n",
    "# Function to check if a number is prime\n",
    "def is_prime(num):\n",
    "    if num < 2:\n",
    "        return False\n",
    "    for i in range(2, int(num**0.5) + 1):\n",
    "        if num % i == 0:\n",
    "            return False\n",
    "    return True\n",
    "\n",
    "# Filter prime numbers from the array\n",
    "prime_numbers = [num for num in random_integers if is_prime(num)]\n",
    "\n",
    "print(\"Random integers array:\")\n",
    "print(random_integers)\n",
    "print(\"\\nPrime numbers in the array:\")\n",
    "print(prime_numbers)\n"
   ]
  },
  {
   "cell_type": "code",
   "execution_count": 51,
   "id": "f24ab095-f2df-4c1f-b9bb-2fe41461f2ae",
   "metadata": {},
   "outputs": [
    {
     "name": "stdout",
     "output_type": "stream",
     "text": [
      "Daily_tempretures:\n",
      "[21 20 28 23 29 15 27 25 16 29 16 19 21 15 27 22 14 29 14 27 27 13 14 23\n",
      " 19 18 22 18 17 28]\n",
      "\n",
      "Weekly averages:\n",
      "[74.42857142857143, 79.42857142857143, 74.57142857142857, 77.0, 81.0]\n"
     ]
    }
   ],
   "source": [
    "#10- Create a numpy array representing daily temperatures for a month. calculate and display the weekly averages.\n",
    "\n",
    "daily_tempretures = np.random.randint(10, 30, 30)\n",
    "print(\"Daily_tempretures:\")\n",
    "print(daily_tempretures )\n",
    "weekly_averages = [np.mean(daily_temperatures[i:i+7]) for i in range(0, 30, 7)]\n",
    "print(\"\\nWeekly averages:\")\n",
    "print(weekly_averages)"
   ]
  },
  {
   "cell_type": "code",
   "execution_count": null,
   "id": "d2b3d6ff-b373-4ad5-a43b-4414c96b03b3",
   "metadata": {},
   "outputs": [],
   "source": []
  }
 ],
 "metadata": {
  "kernelspec": {
   "display_name": "Python 3 (ipykernel)",
   "language": "python",
   "name": "python3"
  },
  "language_info": {
   "codemirror_mode": {
    "name": "ipython",
    "version": 3
   },
   "file_extension": ".py",
   "mimetype": "text/x-python",
   "name": "python",
   "nbconvert_exporter": "python",
   "pygments_lexer": "ipython3",
   "version": "3.10.8"
  }
 },
 "nbformat": 4,
 "nbformat_minor": 5
}
